{
 "cells": [
  {
   "cell_type": "markdown",
   "id": "a0d9e0cf",
   "metadata": {},
   "source": [
    "### Google Earth Engine \n",
    "\n",
    "Google Earth Engine combines a multi-petabyte catalog of satellite imagery and geospatial datasets with planetary-scale analysis capabilities. Scientists, researchers, and developers use Earth Engine to detect changes, map trends, and quantify differences on the Earth's surface.\n",
    "\n",
    "\n",
    "A great repository of tutorials for interacting with GEE in Python using ``gee`` library. More at [here](https://github.com/gee-community/geemap/tree/master/examples/notebooks)"
   ]
  },
  {
   "cell_type": "markdown",
   "id": "c3d06855",
   "metadata": {},
   "source": [
    "Let's try some of them e.g., unsupervised classification?"
   ]
  },
  {
   "cell_type": "code",
   "execution_count": null,
   "id": "c2594bac",
   "metadata": {},
   "outputs": [],
   "source": []
  }
 ],
 "metadata": {
  "kernelspec": {
   "display_name": "Python 3 (ipykernel)",
   "language": "python",
   "name": "python3"
  },
  "language_info": {
   "codemirror_mode": {
    "name": "ipython",
    "version": 3
   },
   "file_extension": ".py",
   "mimetype": "text/x-python",
   "name": "python",
   "nbconvert_exporter": "python",
   "pygments_lexer": "ipython3",
   "version": "3.7.10"
  }
 },
 "nbformat": 4,
 "nbformat_minor": 5
}
