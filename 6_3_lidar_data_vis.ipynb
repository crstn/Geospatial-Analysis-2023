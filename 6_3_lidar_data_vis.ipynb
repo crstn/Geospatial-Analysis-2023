{
 "cells": [
  {
   "cell_type": "markdown",
   "id": "cf1b4886",
   "metadata": {},
   "source": [
    "**Visualizing LiDAR data in 3D **\n",
    "\n",
    "Uncomment the following line to install [geemap](https://geemap.org) if needed."
   ]
  },
  {
   "cell_type": "code",
   "execution_count": null,
   "id": "2f5c9c02",
   "metadata": {},
   "outputs": [],
   "source": [
    "# !pip install geemap[lidar] open3d laspy"
   ]
  },
  {
   "cell_type": "code",
   "execution_count": null,
   "id": "497ea2ab",
   "metadata": {},
   "outputs": [],
   "source": [
    "import os\n",
    "import geemap"
   ]
  },
  {
   "cell_type": "markdown",
   "id": "5f5d24c2",
   "metadata": {},
   "source": [
    "Read the data both in LAS or LAZ formats"
   ]
  },
  {
   "cell_type": "code",
   "execution_count": null,
   "id": "1ede18d1",
   "metadata": {},
   "outputs": [],
   "source": [
    "filename = 'Data/CPH.laz'"
   ]
  },
  {
   "cell_type": "markdown",
   "id": "a5deb870",
   "metadata": {},
   "source": [
    "Read the LiDAR data"
   ]
  },
  {
   "cell_type": "code",
   "execution_count": null,
   "id": "966e3ab8",
   "metadata": {},
   "outputs": [],
   "source": [
    "las = geemap.read_lidar(filename)"
   ]
  },
  {
   "cell_type": "markdown",
   "id": "6d3ef11a",
   "metadata": {},
   "source": [
    "The LAS header."
   ]
  },
  {
   "cell_type": "code",
   "execution_count": null,
   "id": "f4a2b788",
   "metadata": {},
   "outputs": [],
   "source": [
    "las.header"
   ]
  },
  {
   "cell_type": "markdown",
   "id": "01221c23",
   "metadata": {},
   "source": [
    "The number of points."
   ]
  },
  {
   "cell_type": "code",
   "execution_count": null,
   "id": "882e963b",
   "metadata": {},
   "outputs": [],
   "source": [
    "las.header.point_count"
   ]
  },
  {
   "cell_type": "markdown",
   "id": "4e7085c5",
   "metadata": {},
   "source": [
    "The list of features."
   ]
  },
  {
   "cell_type": "code",
   "execution_count": null,
   "id": "a42f2d55",
   "metadata": {},
   "outputs": [],
   "source": [
    "list(las.point_format.dimension_names)"
   ]
  },
  {
   "cell_type": "markdown",
   "id": "2ef203c3",
   "metadata": {},
   "source": [
    "Inspect data."
   ]
  },
  {
   "cell_type": "code",
   "execution_count": null,
   "id": "7f2d7aad",
   "metadata": {},
   "outputs": [],
   "source": [
    "las.X"
   ]
  },
  {
   "cell_type": "code",
   "execution_count": null,
   "id": "67690b4f",
   "metadata": {},
   "outputs": [],
   "source": [
    "las.Y"
   ]
  },
  {
   "cell_type": "code",
   "execution_count": null,
   "id": "553ff384",
   "metadata": {},
   "outputs": [],
   "source": [
    "las.Z"
   ]
  },
  {
   "cell_type": "code",
   "execution_count": null,
   "id": "a1923699",
   "metadata": {},
   "outputs": [],
   "source": [
    "las.intensity"
   ]
  },
  {
   "cell_type": "markdown",
   "id": "735de4e8",
   "metadata": {},
   "source": [
    "Visualize LiDAR data using the [pyvista](https://github.com/pyvista/pyvista) backend."
   ]
  },
  {
   "cell_type": "code",
   "execution_count": null,
   "id": "b1698a43",
   "metadata": {},
   "outputs": [],
   "source": [
    "geemap.view_lidar(filename, cmap='terrain', backend='pyvista')"
   ]
  },
  {
   "cell_type": "markdown",
   "id": "41bb7c20",
   "metadata": {},
   "source": [
    "Visualize LiDAR data using the [ipygany](https://github.com/QuantStack/ipygany) backend."
   ]
  },
  {
   "cell_type": "code",
   "execution_count": null,
   "id": "00763c60",
   "metadata": {},
   "outputs": [],
   "source": [
    "geemap.view_lidar(filename, backend='ipygany', background='white')"
   ]
  },
  {
   "cell_type": "markdown",
   "id": "8d48edb9",
   "metadata": {},
   "source": [
    "Visualize LiDAR data using the [panel](https://github.com/holoviz/panel) backend."
   ]
  },
  {
   "cell_type": "code",
   "execution_count": null,
   "id": "c697496e",
   "metadata": {},
   "outputs": [],
   "source": [
    "geemap.view_lidar(filename, cmap='terrain', backend='panel', background='white')"
   ]
  },
  {
   "cell_type": "markdown",
   "id": "f2e6e8d4",
   "metadata": {},
   "source": [
    "Visualize LiDAR data using the [open3d](http://www.open3d.org) backend."
   ]
  },
  {
   "cell_type": "code",
   "execution_count": null,
   "id": "811b7e99",
   "metadata": {},
   "outputs": [],
   "source": [
    "geemap.view_lidar(filename, backend='open3d')"
   ]
  },
  {
   "cell_type": "code",
   "execution_count": null,
   "id": "3d156504",
   "metadata": {},
   "outputs": [],
   "source": []
  }
 ],
 "metadata": {
  "kernelspec": {
   "display_name": "Python 3 (ipykernel)",
   "language": "python",
   "name": "python3"
  },
  "language_info": {
   "codemirror_mode": {
    "name": "ipython",
    "version": 3
   },
   "file_extension": ".py",
   "mimetype": "text/x-python",
   "name": "python",
   "nbconvert_exporter": "python",
   "pygments_lexer": "ipython3",
   "version": "3.7.10"
  }
 },
 "nbformat": 4,
 "nbformat_minor": 5
}
